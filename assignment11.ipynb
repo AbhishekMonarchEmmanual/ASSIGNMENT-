{
 "cells": [
  {
   "cell_type": "markdown",
   "metadata": {},
   "source": [
    "1. Write a Python program to find words which are greater than given length k?\n",
    "2. Write a Python program for removing i-th character from a string?\n",
    "3. Write a Python program to split and join a string?\n",
    "4. Write a Python to check if a given string is binary string or not?\n",
    "5. Write a Python program to find uncommon words from two Strings?\n",
    "6. Write a Python to find all duplicate characters in string?\n",
    "7. Write a Python Program to check if a string contains any special character?"
   ]
  },
  {
   "cell_type": "code",
   "execution_count": null,
   "metadata": {},
   "outputs": [],
   "source": [
    "def find_words_greater_than_length(sentence, k):\n",
    "    words = sentence.split()\n",
    "    return [word for word in words if len(word) > k]\n",
    "\n",
    "# Input sentence and length from the user\n",
    "sentence = input(\"Enter a sentence: \")\n",
    "k = int(input(\"Enter the value of k: \"))\n",
    "\n",
    "result = find_words_greater_than_length(sentence, k)\n",
    "print(\"Words greater than length\", k, \"in the sentence:\")\n",
    "print(result)"
   ]
  },
  {
   "cell_type": "code",
   "execution_count": null,
   "metadata": {},
   "outputs": [],
   "source": [
    "def remove_ith_character(string, i):\n",
    "    if i < 0 or i >= len(string):\n",
    "        raise ValueError(\"Invalid index.\")\n",
    "    return string[:i] + string[i + 1:]\n",
    "\n",
    "# Input string and index i from the user\n",
    "string = input(\"Enter a string: \")\n",
    "i = int(input(\"Enter the index of the character to remove: \"))\n",
    "\n",
    "try:\n",
    "    result = remove_ith_character(string, i)\n",
    "    print(\"String after removing the i-th character:\")\n",
    "    print(result)\n",
    "except ValueError as e:\n",
    "    print(\"Error:\", e)"
   ]
  },
  {
   "cell_type": "code",
   "execution_count": null,
   "metadata": {},
   "outputs": [],
   "source": [
    "def split_and_join_string(string, delimiter):\n",
    "    words = string.split(delimiter)\n",
    "    return delimiter.join(words)\n",
    "\n",
    "# Input string and delimiter from the user\n",
    "string = input(\"Enter a string: \")\n",
    "delimiter = input(\"Enter the delimiter: \")\n",
    "\n",
    "result = split_and_join_string(string, delimiter)\n",
    "print(\"String after split and join:\")\n",
    "print(result)"
   ]
  },
  {
   "cell_type": "code",
   "execution_count": null,
   "metadata": {},
   "outputs": [],
   "source": [
    "def is_binary_string(string):\n",
    "    return all(char in '01' for char in string)\n",
    "\n",
    "# Input string from the user\n",
    "string = input(\"Enter a string: \")\n",
    "\n",
    "if is_binary_string(string):\n",
    "    print(\"The string is a binary string.\")\n",
    "else:\n",
    "    print(\"The string is not a binary string.\")\n"
   ]
  },
  {
   "cell_type": "code",
   "execution_count": null,
   "metadata": {},
   "outputs": [],
   "source": [
    "def find_uncommon_words(string1, string2):\n",
    "    set1 = set(string1.split())\n",
    "    set2 = set(string2.split())\n",
    "    return list(set1.symmetric_difference(set2))\n",
    "\n",
    "# Input two strings from the user\n",
    "string1 = input(\"Enter the first string: \")\n",
    "string2 = input(\"Enter the second string: \")\n",
    "\n",
    "result = find_uncommon_words(string1, string2)\n",
    "print(\"Uncommon words from the two strings:\")\n",
    "print(result)\n"
   ]
  },
  {
   "cell_type": "code",
   "execution_count": null,
   "metadata": {},
   "outputs": [],
   "source": [
    "def find_duplicate_characters(string):\n",
    "    duplicates = []\n",
    "    for char in string:\n",
    "        if string.count(char) > 1 and char not in duplicates:\n",
    "            duplicates.append(char)\n",
    "    return duplicates\n",
    "\n",
    "# Input string from the user\n",
    "string = input(\"Enter a string: \")\n",
    "\n",
    "result = find_duplicate_characters(string)\n",
    "print(\"Duplicate characters in the string:\")\n",
    "print(result)\n"
   ]
  },
  {
   "cell_type": "code",
   "execution_count": null,
   "metadata": {},
   "outputs": [],
   "source": [
    "def has_special_character(string):\n",
    "    import re\n",
    "    pattern = re.compile('[!@#$%^&*(),.?\":{}|<>]')\n",
    "    return bool(pattern.search(string))\n",
    "\n",
    "# Input string from the user\n",
    "string = input(\"Enter a string: \")\n",
    "\n",
    "if has_special_character(string):\n",
    "    print(\"The string contains special characters.\")\n",
    "else:\n",
    "    print(\"The string does not contain any special characters.\")\n"
   ]
  },
  {
   "cell_type": "code",
   "execution_count": null,
   "metadata": {},
   "outputs": [],
   "source": []
  },
  {
   "cell_type": "code",
   "execution_count": null,
   "metadata": {},
   "outputs": [],
   "source": []
  },
  {
   "cell_type": "code",
   "execution_count": null,
   "metadata": {},
   "outputs": [],
   "source": []
  },
  {
   "cell_type": "code",
   "execution_count": null,
   "metadata": {},
   "outputs": [],
   "source": []
  }
 ],
 "metadata": {
  "language_info": {
   "name": "python"
  },
  "orig_nbformat": 4
 },
 "nbformat": 4,
 "nbformat_minor": 2
}
