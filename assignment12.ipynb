{
 "cells": [
  {
   "cell_type": "markdown",
   "metadata": {},
   "source": []
  },
  {
   "cell_type": "code",
   "execution_count": null,
   "metadata": {},
   "outputs": [],
   "source": []
  },
  {
   "cell_type": "code",
   "execution_count": null,
   "metadata": {},
   "outputs": [],
   "source": []
  },
  {
   "cell_type": "code",
   "execution_count": null,
   "metadata": {},
   "outputs": [],
   "source": []
  },
  {
   "cell_type": "code",
   "execution_count": null,
   "metadata": {},
   "outputs": [],
   "source": [
    "def extract_unique_values(dictionary):\n",
    "    unique_values = set()\n",
    "    for values in dictionary.values():\n",
    "        if isinstance(values, list):\n",
    "            unique_values.update(values)\n",
    "        else:\n",
    "            unique_values.add(values)\n",
    "    return list(unique_values)\n",
    "\n",
    "# Input dictionary from the user (comma-separated key-value pairs)\n",
    "input_str = input(\"Enter key-value pairs separated by commas (e.g., key1:value1, key2:value2): \")\n",
    "dictionary = dict(item.split(\":\") for item in input_str.split(\",\"))\n",
    "\n",
    "result = extract_unique_values(dictionary)\n",
    "print(\"Unique values from dictionary values:\")\n",
    "print(result)\n"
   ]
  },
  {
   "cell_type": "code",
   "execution_count": null,
   "metadata": {},
   "outputs": [],
   "source": [
    "def sum_of_items(dictionary):\n",
    "    return sum(dictionary.values())\n",
    "\n",
    "# Input dictionary from the user (comma-separated key-value pairs)\n",
    "input_str = input(\"Enter key-value pairs separated by commas (e.g., key1:value1, key2:value2): \")\n",
    "dictionary = dict(item.split(\":\") for item in input_str.split(\",\"))\n",
    "\n",
    "result = sum_of_items(dictionary)\n",
    "print(\"Sum of all items in the dictionary:\", result)"
   ]
  },
  {
   "cell_type": "code",
   "execution_count": null,
   "metadata": {},
   "outputs": [],
   "source": [
    "def merge_dictionaries(dict1, dict2):\n",
    "    merged_dict = {**dict1, **dict2}\n",
    "    return merged_dict\n",
    "\n",
    "# Input two dictionaries from the user (comma-separated key-value pairs)\n",
    "input_str1 = input(\"Enter key-value pairs for the first dictionary (e.g., key1:value1, key2:value2): \")\n",
    "dictionary1 = dict(item.split(\":\") for item in input_str1.split(\",\"))\n",
    "\n",
    "input_str2 = input(\"Enter key-value pairs for the second dictionary (e.g., key3:value3, key4:value4): \")\n",
    "dictionary2 = dict(item.split(\":\") for item in input_str2.split(\",\"))\n",
    "\n",
    "result = merge_dictionaries(dictionary1, dictionary2)\n",
    "print(\"Merged dictionary:\")\n",
    "print(result)"
   ]
  },
  {
   "cell_type": "code",
   "execution_count": null,
   "metadata": {},
   "outputs": [],
   "source": [
    "def convert_to_flat_dictionary(keys, values):\n",
    "    return dict(zip(keys, values))\n",
    "\n",
    "# Input keys and values from the user (comma-separated lists)\n",
    "keys = input(\"Enter keys separated by commas: \").split(\",\")\n",
    "values = input(\"Enter values separated by commas: \").split(\",\")\n",
    "\n",
    "result = convert_to_flat_dictionary(keys, values)\n",
    "print(\"Flat dictionary:\")\n",
    "print(result)\n"
   ]
  },
  {
   "cell_type": "code",
   "execution_count": null,
   "metadata": {},
   "outputs": [],
   "source": [
    "from collections import OrderedDict\n",
    "\n",
    "def insert_at_beginning(ordered_dict, key, value):\n",
    "    ordered_dict.move_to_end(key, last=False)\n",
    "    ordered_dict[key] = value\n",
    "\n",
    "# Input OrderedDict from the user (comma-separated key-value pairs)\n",
    "input_str = input(\"Enter key-value pairs separated by commas (e.g., key1:value1, key2:value2): \")\n",
    "ordered_dict = OrderedDict(item.split(\":\") for item in input_str.split(\",\"))\n",
    "\n",
    "new_key = input(\"Enter the new key to insert: \")\n",
    "new_value = input(\"Enter the new value to insert: \")\n",
    "\n",
    "insert_at_beginning(ordered_dict, new_key, new_value)\n",
    "\n",
    "print(\"OrderedDict after insertion at the beginning:\")\n",
    "print(ordered_dict)\n"
   ]
  },
  {
   "cell_type": "code",
   "execution_count": null,
   "metadata": {},
   "outputs": [],
   "source": [
    "from collections import OrderedDict\n",
    "\n",
    "def insert_at_beginning(ordered_dict, key, value):\n",
    "    ordered_dict.move_to_end(key, last=False)\n",
    "    ordered_dict[key] = value\n",
    "\n",
    "# Input OrderedDict from the user (comma-separated key-value pairs)\n",
    "input_str = input(\"Enter key-value pairs separated by commas (e.g., key1:value1, key2:value2): \")\n",
    "ordered_dict = OrderedDict(item.split(\":\") for item in input_str.split(\",\"))\n",
    "\n",
    "new_key = input(\"Enter the new key to insert: \")\n",
    "new_value = input(\"Enter the new value to insert: \")\n",
    "\n",
    "insert_at_beginning(ordered_dict, new_key, new_value)\n",
    "\n",
    "print(\"OrderedDict after insertion at the beginning:\")\n",
    "print(ordered_dict)\n"
   ]
  },
  {
   "cell_type": "code",
   "execution_count": null,
   "metadata": {},
   "outputs": [],
   "source": [
    "from collections import OrderedDict\n",
    "\n",
    "def check_order_of_characters(string, pattern):\n",
    "    pattern_dict = OrderedDict.fromkeys(pattern)\n",
    "    j = 0\n",
    "\n",
    "    for char in string:\n",
    "        if j == len(pattern):\n",
    "            break\n",
    "        if char == pattern[j]:\n",
    "            j += 1\n",
    "\n",
    "    return j == len(pattern)\n",
    "\n",
    "# Input string and pattern from the user\n",
    "string = input(\"Enter a string: \")\n",
    "pattern = input(\"Enter the pattern to check: \")\n",
    "\n",
    "if check_order_of_characters(string, pattern):\n",
    "    print(\"The pattern appears in the string in the given order.\")\n",
    "else:\n",
    "    print(\"The pattern does not appear in the string in the given order.\")\n"
   ]
  },
  {
   "cell_type": "code",
   "execution_count": null,
   "metadata": {},
   "outputs": [],
   "source": [
    "from collections import OrderedDict\n",
    "\n",
    "def check_order_of_characters(string, pattern):\n",
    "    pattern_dict = OrderedDict.fromkeys(pattern)\n",
    "    j = 0\n",
    "\n",
    "    for char in string:\n",
    "        if j == len(pattern):\n",
    "            break\n",
    "        if char == pattern[j]:\n",
    "            j += 1\n",
    "\n",
    "    return j == len(pattern)\n",
    "\n",
    "# Input string and pattern from the user\n",
    "string = input(\"Enter a string: \")\n",
    "pattern = input(\"Enter the pattern to check: \")\n",
    "\n",
    "if check_order_of_characters(string, pattern):\n",
    "    print(\"The pattern appears in the string in the given order.\")\n",
    "else:\n",
    "    print(\"The pattern does not appear in the string in the given order.\")\n"
   ]
  },
  {
   "cell_type": "code",
   "execution_count": null,
   "metadata": {},
   "outputs": [],
   "source": [
    "def sort_dictionary_by_key(dictionary):\n",
    "    return dict(sorted(dictionary.items()))\n",
    "\n",
    "def sort_dictionary_by_value(dictionary):\n",
    "    return dict(sorted(dictionary.items(), key=lambda x: x[1]))\n",
    "\n",
    "# Input dictionary from the user (comma-separated key-value pairs)\n",
    "input_str = input(\"Enter key-value pairs separated by commas (e.g., key1:value1, key2:value2): \")\n",
    "dictionary = dict(item.split(\":\") for item in input_str.split(\",\"))\n",
    "\n",
    "sorted_by_key = sort_dictionary_by_key(dictionary)\n",
    "sorted_by_value = sort_dictionary_by_value(dictionary)\n",
    "\n",
    "print(\"Dictionary sorted by key:\")\n",
    "print(sorted_by_key)\n",
    "\n",
    "print(\"Dictionary sorted by value:\")\n",
    "print(sorted_by_value)\n"
   ]
  },
  {
   "cell_type": "code",
   "execution_count": null,
   "metadata": {},
   "outputs": [],
   "source": []
  },
  {
   "cell_type": "code",
   "execution_count": null,
   "metadata": {},
   "outputs": [],
   "source": []
  },
  {
   "cell_type": "code",
   "execution_count": null,
   "metadata": {},
   "outputs": [],
   "source": []
  },
  {
   "cell_type": "code",
   "execution_count": null,
   "metadata": {},
   "outputs": [],
   "source": []
  },
  {
   "cell_type": "code",
   "execution_count": null,
   "metadata": {},
   "outputs": [],
   "source": []
  }
 ],
 "metadata": {
  "language_info": {
   "name": "python"
  },
  "orig_nbformat": 4
 },
 "nbformat": 4,
 "nbformat_minor": 2
}
