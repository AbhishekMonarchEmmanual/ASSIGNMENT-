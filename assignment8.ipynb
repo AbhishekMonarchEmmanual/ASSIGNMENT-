{
 "cells": [
  {
   "cell_type": "markdown",
   "metadata": {},
   "source": [
    "1. Write a Python Program to Add Two Matrices?\n",
    "2. Write a Python Program to Multiply Two Matrices?\n",
    "3. Write a Python Program to Transpose a Matrix?\n",
    "4. Write a Python Program to Sort Words in Alphabetic Order?\n",
    "5. Write a Python Program to Remove Punctuation From a String?"
   ]
  },
  {
   "cell_type": "code",
   "execution_count": null,
   "metadata": {},
   "outputs": [],
   "source": [
    "def add_matrices(matrix1, matrix2):\n",
    "    if len(matrix1) != len(matrix2) or len(matrix1[0]) != len(matrix2[0]):\n",
    "        return None\n",
    "\n",
    "    result = []\n",
    "    for i in range(len(matrix1)):\n",
    "        row = []\n",
    "        for j in range(len(matrix1[0])):\n",
    "            row.append(matrix1[i][j] + matrix2[i][j])\n",
    "        result.append(row)\n",
    "\n",
    "    return result\n",
    "\n",
    "# Input matrices from the user (comma-separated integers for each row, semicolon-separated rows)\n",
    "matrix1 = [list(map(int, input(\"Enter elements of the first matrix (comma-separated rows): \").split(',')))]\n",
    "for _ in range(len(matrix1[0]) - 1):\n",
    "    row = list(map(int, input().split(',')))\n",
    "    matrix1.append(row)\n",
    "\n",
    "matrix2 = [list(map(int, input(\"Enter elements of the second matrix (comma-separated rows): \").split(',')))]\n",
    "for _ in range(len(matrix2[0]) - 1):\n",
    "    row = list(map(int, input().split(',')))\n",
    "    matrix2.append(row)\n",
    "\n",
    "result = add_matrices(matrix1, matrix2)\n",
    "if result is not None:\n",
    "    print(\"Resultant matrix after addition:\")\n",
    "    for row in result:\n",
    "        print(row)\n",
    "else:\n",
    "    print(\"Matrix dimensions do not match for addition.\")"
   ]
  },
  {
   "cell_type": "code",
   "execution_count": null,
   "metadata": {},
   "outputs": [],
   "source": [
    "def multiply_matrices(matrix1, matrix2):\n",
    "    if len(matrix1[0]) != len(matrix2):\n",
    "        return None\n",
    "\n",
    "    result = []\n",
    "    for i in range(len(matrix1)):\n",
    "        row = []\n",
    "        for j in range(len(matrix2[0])):\n",
    "            cell_val = sum(matrix1[i][k] * matrix2[k][j] for k in range(len(matrix1[0])))\n",
    "            row.append(cell_val)\n",
    "        result.append(row)\n",
    "\n",
    "    return result\n",
    "\n",
    "# Input matrices from the user (comma-separated integers for each row, semicolon-separated rows)\n",
    "matrix1 = [list(map(int, input(\"Enter elements of the first matrix (comma-separated rows): \").split(',')))]\n",
    "for _ in range(len(matrix1[0]) - 1):\n",
    "    row = list(map(int, input().split(',')))\n",
    "    matrix1.append(row)\n",
    "\n",
    "matrix2 = [list(map(int, input(\"Enter elements of the second matrix (comma-separated rows): \").split(',')))]\n",
    "for _ in range(len(matrix2[0]) - 1):\n",
    "    row = list(map(int, input().split(',')))\n",
    "    matrix2.append(row)\n",
    "\n",
    "result = multiply_matrices(matrix1, matrix2)\n",
    "if result is not None:\n",
    "    print(\"Resultant matrix after multiplication:\")\n",
    "    for row in result:\n",
    "        print(row)\n",
    "else:\n",
    "    print(\"Matrix dimensions do not match for multiplication.\")\n"
   ]
  },
  {
   "cell_type": "code",
   "execution_count": null,
   "metadata": {},
   "outputs": [],
   "source": [
    "def transpose_matrix(matrix):\n",
    "    return [[matrix[j][i] for j in range(len(matrix))] for i in range(len(matrix[0]))]\n",
    "\n",
    "# Input matrix from the user (comma-separated integers for each row, semicolon-separated rows)\n",
    "matrix = [list(map(int, input(\"Enter elements of the matrix (comma-separated rows): \").split(',')))]\n",
    "for _ in range(len(matrix[0]) - 1):\n",
    "    row = list(map(int, input().split(',')))\n",
    "    matrix.append(row)\n",
    "\n",
    "result = transpose_matrix(matrix)\n",
    "print(\"Transposed matrix:\")\n",
    "for row in result:\n",
    "    print(row)\n"
   ]
  },
  {
   "cell_type": "code",
   "execution_count": null,
   "metadata": {},
   "outputs": [],
   "source": [
    "def sort_words_in_alphabetic_order(sentence):\n",
    "    words = sentence.split()\n",
    "    words.sort()\n",
    "    return ' '.join(words)\n",
    "\n",
    "# Input sentence from the user\n",
    "sentence = input(\"Enter a sentence: \")\n",
    "\n",
    "result = sort_words_in_alphabetic_order(sentence)\n",
    "print(\"Sorted words in alphabetic order:\")\n",
    "print(result)\n"
   ]
  },
  {
   "cell_type": "code",
   "execution_count": null,
   "metadata": {},
   "outputs": [],
   "source": [
    "import string\n",
    "\n",
    "def remove_punctuation(text):\n",
    "    return text.translate(str.maketrans('', '', string.punctuation))\n",
    "\n",
    "# Input string from the user\n",
    "text = input(\"Enter a string: \")\n",
    "\n",
    "result = remove_punctuation(text)\n",
    "print(\"String after removing punctuation:\")\n",
    "print(result)\n"
   ]
  },
  {
   "cell_type": "code",
   "execution_count": null,
   "metadata": {},
   "outputs": [],
   "source": []
  },
  {
   "cell_type": "code",
   "execution_count": null,
   "metadata": {},
   "outputs": [],
   "source": []
  },
  {
   "cell_type": "code",
   "execution_count": null,
   "metadata": {},
   "outputs": [],
   "source": []
  },
  {
   "cell_type": "code",
   "execution_count": null,
   "metadata": {},
   "outputs": [],
   "source": []
  },
  {
   "cell_type": "code",
   "execution_count": null,
   "metadata": {},
   "outputs": [],
   "source": []
  },
  {
   "cell_type": "code",
   "execution_count": null,
   "metadata": {},
   "outputs": [],
   "source": []
  }
 ],
 "metadata": {
  "language_info": {
   "name": "python"
  },
  "orig_nbformat": 4
 },
 "nbformat": 4,
 "nbformat_minor": 2
}
