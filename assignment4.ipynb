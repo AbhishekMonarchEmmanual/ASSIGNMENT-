{
 "cells": [
  {
   "cell_type": "markdown",
   "metadata": {},
   "source": [
    "1. Write a Python Program to Find the Factorial of a Number?\n",
    "2. Write a Python Program to Display the multiplication Table?\n",
    "3. Write a Python Program to Print the Fibonacci sequence?\n",
    "4. Write a Python Program to Check Armstrong Number?\n",
    "5. Write a Python Program to Find Armstrong Number in an Interval?\n",
    "6. Write a Python Program to Find the Sum of Natural Numbers?"
   ]
  },
  {
   "cell_type": "code",
   "execution_count": 1,
   "metadata": {},
   "outputs": [
    {
     "name": "stdout",
     "output_type": "stream",
     "text": [
      "Factorial of 5 is 120\n"
     ]
    }
   ],
   "source": [
    "def factorial(number):\n",
    "    if number == 0:\n",
    "        return 1\n",
    "    else:\n",
    "        return number * factorial(number - 1)\n",
    "\n",
    "# Input number from the user\n",
    "num = int(input(\"Enter a number: \"))\n",
    "\n",
    "# Check if the input is non-negative\n",
    "if num < 0:\n",
    "    print(\"Factorial is not defined for negative numbers.\")\n",
    "else:\n",
    "    result = factorial(num)\n",
    "    print(\"Factorial of\", num, \"is\", result)\n",
    "    \n",
    "\n"
   ]
  },
  {
   "cell_type": "code",
   "execution_count": null,
   "metadata": {},
   "outputs": [],
   "source": [
    "def multiplication_table(number, limit):\n",
    "    for i in range(1, limit + 1):\n",
    "        print(f\"{number} x {i} = {number * i}\")\n",
    "\n",
    "# Input number from the user\n",
    "num = int(input(\"Enter a number to display its multiplication table: \"))\n",
    "limit = int(input(\"Enter the limit for the table: \"))\n",
    "\n",
    "multiplication_table(num, limit)"
   ]
  },
  {
   "cell_type": "code",
   "execution_count": null,
   "metadata": {},
   "outputs": [],
   "source": [
    "def fibonacci_sequence(n):\n",
    "    fib_sequence = [0, 1]\n",
    "    for i in range(2, n):\n",
    "        next_num = fib_sequence[-1] + fib_sequence[-2]\n",
    "        fib_sequence.append(next_num)\n",
    "    return fib_sequence\n",
    "\n",
    "# Input number of terms from the user\n",
    "num_terms = int(input(\"Enter the number of terms for the Fibonacci sequence: \"))\n",
    "\n",
    "if num_terms <= 0:\n",
    "    print(\"Number of terms should be positive.\")\n",
    "else:\n",
    "    sequence = fibonacci_sequence(num_terms)\n",
    "    print(\"Fibonacci sequence:\")\n",
    "    print(sequence)"
   ]
  },
  {
   "cell_type": "code",
   "execution_count": null,
   "metadata": {},
   "outputs": [],
   "source": [
    "def is_armstrong(number):\n",
    "    num_str = str(number)\n",
    "    num_digits = len(num_str)\n",
    "    armstrong_sum = sum(int(digit) ** num_digits for digit in num_str)\n",
    "    return armstrong_sum == number\n",
    "\n",
    "# Input number from the user\n",
    "num = int(input(\"Enter a number to check if it's an Armstrong number: \"))\n",
    "\n",
    "if is_armstrong(num):\n",
    "    print(num, \"is an Armstrong number.\")\n",
    "else:\n",
    "    print(num, \"is not an Armstrong number.\")"
   ]
  },
  {
   "cell_type": "code",
   "execution_count": null,
   "metadata": {},
   "outputs": [],
   "source": [
    "def find_armstrong_in_interval(start, end):\n",
    "    armstrong_numbers = []\n",
    "    for number in range(start, end + 1):\n",
    "        if is_armstrong(number):\n",
    "            armstrong_numbers.append(number)\n",
    "    return armstrong_numbers\n",
    "\n",
    "# Input interval from the user\n",
    "start = int(input(\"Enter the start of the interval: \"))\n",
    "end = int(input(\"Enter the end of the interval: \"))\n",
    "\n",
    "armstrong_nums = find_armstrong_in_interval(start, end)\n",
    "print(\"Armstrong numbers in the interval:\", armstrong_nums)"
   ]
  },
  {
   "cell_type": "code",
   "execution_count": null,
   "metadata": {},
   "outputs": [],
   "source": [
    "def sum_of_natural_numbers(n):\n",
    "    return n * (n + 1) // 2\n",
    "\n",
    "# Input number from the user\n",
    "num = int(input(\"Enter a positive number: \"))\n",
    "\n",
    "if num <= 0:\n",
    "    print(\"Please enter a positive number.\")\n",
    "else:\n",
    "    result = sum_of_natural_numbers(num)\n",
    "    print(\"The sum of first\", num, \"natural numbers is\", result)"
   ]
  },
  {
   "cell_type": "code",
   "execution_count": null,
   "metadata": {},
   "outputs": [],
   "source": []
  },
  {
   "cell_type": "code",
   "execution_count": null,
   "metadata": {},
   "outputs": [],
   "source": []
  },
  {
   "cell_type": "code",
   "execution_count": null,
   "metadata": {},
   "outputs": [],
   "source": []
  },
  {
   "cell_type": "code",
   "execution_count": null,
   "metadata": {},
   "outputs": [],
   "source": []
  },
  {
   "cell_type": "code",
   "execution_count": null,
   "metadata": {},
   "outputs": [],
   "source": []
  },
  {
   "cell_type": "code",
   "execution_count": null,
   "metadata": {},
   "outputs": [],
   "source": []
  }
 ],
 "metadata": {
  "kernelspec": {
   "display_name": "Python 3",
   "language": "python",
   "name": "python3"
  },
  "language_info": {
   "codemirror_mode": {
    "name": "ipython",
    "version": 3
   },
   "file_extension": ".py",
   "mimetype": "text/x-python",
   "name": "python",
   "nbconvert_exporter": "python",
   "pygments_lexer": "ipython3",
   "version": "3.10.5"
  },
  "orig_nbformat": 4
 },
 "nbformat": 4,
 "nbformat_minor": 2
}
