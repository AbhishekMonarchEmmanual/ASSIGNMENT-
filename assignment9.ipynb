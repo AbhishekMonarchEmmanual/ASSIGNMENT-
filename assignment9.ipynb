{
 "cells": [
  {
   "cell_type": "markdown",
   "metadata": {},
   "source": [
    "1. Write a Python program to check if the given number is a Disarium Number?\n",
    "2. Write a Python program to print all disarium numbers between 1 to 100?\n",
    "3. Write a Python program to check if the given number is Happy Number?\n",
    "4. Write a Python program to print all happy numbers between 1 and 100?\n",
    "5. Write a Python program to determine whether the given number is a Harshad Number?\n",
    "6. Write a Python program to print all pronic numbers between 1 and 100?"
   ]
  },
  {
   "cell_type": "code",
   "execution_count": null,
   "metadata": {},
   "outputs": [],
   "source": [
    "def is_disarium_number(number):\n",
    "    num_str = str(number)\n",
    "    disarium_sum = sum(int(digit) ** (i + 1) for i, digit in enumerate(num_str))\n",
    "    return disarium_sum == number\n",
    "\n",
    "# Input number from the user\n",
    "num = int(input(\"Enter a number: \"))\n",
    "\n",
    "if is_disarium_number(num):\n",
    "    print(num, \"is a Disarium number.\")\n",
    "else:\n",
    "    print(num, \"is not a Disarium number.\")\n"
   ]
  },
  {
   "cell_type": "code",
   "execution_count": null,
   "metadata": {},
   "outputs": [],
   "source": [
    "def get_disarium_numbers(start, end):\n",
    "    disarium_numbers = []\n",
    "    for number in range(start, end + 1):\n",
    "        if is_disarium_number(number):\n",
    "            disarium_numbers.append(number)\n",
    "    return disarium_numbers\n",
    "\n",
    "disarium_nums = get_disarium_numbers(1, 100)\n",
    "print(\"Disarium numbers between 1 and 100:\", disarium_nums)\n"
   ]
  },
  {
   "cell_type": "code",
   "execution_count": null,
   "metadata": {},
   "outputs": [],
   "source": [
    "class HappyNumber:\n",
    "    @staticmethod\n",
    "    def is_happy_number(number):\n",
    "        seen_numbers = set()\n",
    "        while number != 1:\n",
    "            number = sum(int(digit) ** 2 for digit in str(number))\n",
    "            if number in seen_numbers:\n",
    "                return False\n",
    "            seen_numbers.add(number)\n",
    "        return True\n",
    "\n",
    "\n",
    "class HappyNumberFinder:\n",
    "   \n",
    "    def find_happy_numbers(start, end):\n",
    "        happy_numbers = []\n",
    "        for number in range(start, end + 1):\n",
    "            if HappyNumber.is_happy_number(number):\n",
    "                happy_numbers.append(number)\n",
    "        return happy_numbers\n",
    "\n",
    "\n",
    "# Input number from the user\n",
    "num = int(input(\"Enter a number: \"))\n",
    "\n",
    "if HappyNumber.is_happy_number(num):\n",
    "    print(num, \"is a Happy number.\")\n",
    "else:\n",
    "    print(num, \"is not a Happy number.\")\n",
    "\n",
    "# To find Happy numbers between 1 and 100\n",
    "happy_finder = HappyNumberFinder()\n",
    "happy_nums = happy_finder.find_happy_numbers(1, 100)\n",
    "print(\"Happy numbers between 1 and 100:\", happy_nums)\n"
   ]
  },
  {
   "cell_type": "code",
   "execution_count": null,
   "metadata": {},
   "outputs": [],
   "source": [
    "class HarshadNumber:\n",
    "    \n",
    "    def is_harshad_number(number):\n",
    "        num_str = str(number)\n",
    "        digit_sum = sum(int(digit) for digit in num_str)\n",
    "        return number % digit_sum == 0\n",
    "\n",
    "\n",
    "# Input number from the user\n",
    "num = int(input(\"Enter a number: \"))\n",
    "\n",
    "if HarshadNumber.is_harshad_number(num):\n",
    "    print(num, \"is a Harshad number.\")\n",
    "else:\n",
    "    print(num, \"is not a Harshad number.\")\n"
   ]
  },
  {
   "cell_type": "code",
   "execution_count": null,
   "metadata": {},
   "outputs": [],
   "source": [
    "class PronicNumber:\n",
    "    @staticmethod\n",
    "    def is_pronic_number(number):\n",
    "        for i in range(1, number + 1):\n",
    "            if i * (i + 1) == number:\n",
    "                return True\n",
    "        return False\n",
    "\n",
    "\n",
    "class PronicNumberFinder:\n",
    "    @staticmethod\n",
    "    def find_pronic_numbers(start, end):\n",
    "        pronic_numbers = []\n",
    "        for number in range(start, end + 1):\n",
    "            if PronicNumber.is_pronic_number(number):\n",
    "                pronic_numbers.append(number)\n",
    "        return pronic_numbers\n",
    "\n",
    "\n",
    "# To find Pronic numbers between 1 and 100\n",
    "pronic_finder = PronicNumberFinder()\n",
    "pronic_nums = pronic_finder.find_pronic_numbers(1, 100)\n",
    "print(\"Pronic numbers between 1 and 100:\", pronic_nums)\n"
   ]
  },
  {
   "cell_type": "code",
   "execution_count": null,
   "metadata": {},
   "outputs": [],
   "source": []
  }
 ],
 "metadata": {
  "language_info": {
   "name": "python"
  },
  "orig_nbformat": 4
 },
 "nbformat": 4,
 "nbformat_minor": 2
}
