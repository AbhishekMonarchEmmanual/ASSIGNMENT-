{
 "cells": [
  {
   "cell_type": "markdown",
   "metadata": {},
   "source": [
    "1. Write a Python Program to find sum of array?\n",
    "2. Write a Python Program to find largest element in an array?\n",
    "3. Write a Python Program for array rotation?\n",
    "4. Write a Python Program to Split the array and add the first part to the end?\n",
    "5. Write a Python Program to check if given array is Monotonic?"
   ]
  },
  {
   "cell_type": "code",
   "execution_count": null,
   "metadata": {},
   "outputs": [],
   "source": [
    "def array_sum(arr):\n",
    "    total = 0\n",
    "    for num in arr:\n",
    "        total += num\n",
    "    return total\n",
    "\n",
    "# Input array from the user (comma-separated integers)\n",
    "arr = list(map(int, input(\"Enter the elements of the array (comma-separated): \").split(',')))\n",
    "\n",
    "result = array_sum(arr)\n",
    "print(\"The sum of the array is:\", result)"
   ]
  },
  {
   "cell_type": "code",
   "execution_count": null,
   "metadata": {},
   "outputs": [],
   "source": [
    "def find_largest_element(arr):\n",
    "    if not arr:\n",
    "        return None\n",
    "    largest = arr[0]\n",
    "    for num in arr:\n",
    "        if num > largest:\n",
    "            largest = num\n",
    "    return largest\n",
    "\n",
    "# Input array from the user (comma-separated integers)\n",
    "arr = list(map(int, input(\"Enter the elements of the array (comma-separated): \").split(',')))\n",
    "\n",
    "result = find_largest_element(arr)\n",
    "if result is not None:\n",
    "    print(\"The largest element in the array is:\", result)\n",
    "else:\n",
    "    print(\"The array is empty.\")"
   ]
  },
  {
   "cell_type": "code",
   "execution_count": null,
   "metadata": {},
   "outputs": [],
   "source": [
    "def array_rotate(arr, rotations):\n",
    "    rotations = rotations % len(arr)  \n",
    "    return arr[rotations:] + arr[:rotations]\n",
    "\n",
    "\n",
    "arr = list(map(int, input(\"Enter the elements of the array (comma-separated): \").split(',')))\n",
    "\n",
    "rotations = int(input(\"Enter the number of rotations: \"))\n",
    "\n",
    "rotated_array = array_rotate(arr, rotations)\n",
    "print(\"Array after rotation:\", rotated_array)"
   ]
  },
  {
   "cell_type": "code",
   "execution_count": null,
   "metadata": {},
   "outputs": [],
   "source": [
    "def split_and_add(arr, split_index):\n",
    "    return arr[split_index:] + arr[:split_index]\n",
    "\n",
    "\n",
    "arr = list(map(int, input(\"Enter the elements of the array (comma-separated): \").split(',')))\n",
    "\n",
    "split_index = int(input(\"Enter the split index: \"))\n",
    "\n",
    "if split_index < 0 or split_index > len(arr):\n",
    "    print(\"Invalid split index.\")\n",
    "else:\n",
    "    result = split_and_add(arr, split_index)\n",
    "    print(\"Array after split and add operation:\", result)"
   ]
  },
  {
   "cell_type": "code",
   "execution_count": null,
   "metadata": {},
   "outputs": [],
   "source": [
    "def is_monotonic(arr):\n",
    "    increasing = decreasing = True\n",
    "\n",
    "    for i in range(1, len(arr)):\n",
    "        if arr[i] > arr[i - 1]:\n",
    "            decreasing = False\n",
    "        elif arr[i] < arr[i - 1]:\n",
    "            increasing = False\n",
    "\n",
    "    return increasing or decreasing\n",
    "\n",
    "\n",
    "arr = list(map(int, input(\"Enter the elements of the array (comma-separated): \").split(',')))\n",
    "\n",
    "if is_monotonic(arr):\n",
    "    print(\"The array is monotonic.\")\n",
    "else:\n",
    "    print(\"The array is not monotonic.\")\n"
   ]
  },
  {
   "cell_type": "code",
   "execution_count": null,
   "metadata": {},
   "outputs": [],
   "source": []
  },
  {
   "cell_type": "code",
   "execution_count": null,
   "metadata": {},
   "outputs": [],
   "source": []
  },
  {
   "cell_type": "code",
   "execution_count": null,
   "metadata": {},
   "outputs": [],
   "source": []
  },
  {
   "cell_type": "code",
   "execution_count": null,
   "metadata": {},
   "outputs": [],
   "source": []
  },
  {
   "cell_type": "code",
   "execution_count": null,
   "metadata": {},
   "outputs": [],
   "source": []
  },
  {
   "cell_type": "code",
   "execution_count": null,
   "metadata": {},
   "outputs": [],
   "source": []
  },
  {
   "cell_type": "code",
   "execution_count": null,
   "metadata": {},
   "outputs": [],
   "source": []
  }
 ],
 "metadata": {
  "language_info": {
   "name": "python"
  },
  "orig_nbformat": 4
 },
 "nbformat": 4,
 "nbformat_minor": 2
}
