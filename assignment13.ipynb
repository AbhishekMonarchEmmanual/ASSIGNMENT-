{
 "cells": [
  {
   "cell_type": "markdown",
   "metadata": {},
   "source": [
    "Question 1:\n",
    "Write a program that calculates and prints the value according to the given formula:\n",
    "Q = Square root of [(2 * C * D)/H]\n",
    "Following are the fixed values of C and H:\n",
    "C is 50. H is 30.\n",
    "D is the variable whose values should be input to your program in a comma-separated\n",
    "sequence.\n",
    "Example\n",
    "Let us assume the following comma separated input sequence is given to the program:\n",
    "100,150,180\n",
    "The output of the program should be:\n",
    "18,22,24"
   ]
  },
  {
   "cell_type": "code",
   "execution_count": 1,
   "metadata": {},
   "outputs": [
    {
     "name": "stdout",
     "output_type": "stream",
     "text": [
      "Output of the program:\n",
      "18,22,24\n"
     ]
    }
   ],
   "source": [
    "import math\n",
    "\n",
    "def calculate_value(sequence):\n",
    "    C = 50\n",
    "    H = 30\n",
    "    result = []\n",
    "\n",
    "    for D in sequence:\n",
    "        Q = int(math.sqrt((2 * C * int(D)) / H))\n",
    "        result.append(Q)\n",
    "\n",
    "    return result\n",
    "\n",
    "# Input comma-separated sequence from the user\n",
    "input_sequence = input(\"Enter a comma-separated sequence of values: \")\n",
    "values = input_sequence.split(\",\")\n",
    "\n",
    "output = calculate_value(values)\n",
    "print(\"Output of the program:\")\n",
    "print(\",\".join(str(val) for val in output))\n",
    "\n",
    "\n",
    "#input : 100,150,180\n"
   ]
  },
  {
   "cell_type": "markdown",
   "metadata": {},
   "source": [
    "Question 2:\n",
    "Write a program which takes 2 digits, X,Y as input and generates a 2-dimensional array. The\n",
    "element value in the i-th row and j-th column of the array should be i*j.\n",
    "Note: i=0,1.., X-1; j=0,1,¡Y-1.\n",
    "Example\n",
    "Suppose the following inputs are given to the program:\n",
    "3,5\n",
    "Then, the output of the program should be:\n",
    "[[0, 0, 0, 0, 0], [0, 1, 2, 3, 4], [0, 2, 4, 6, 8]]"
   ]
  },
  {
   "cell_type": "code",
   "execution_count": 2,
   "metadata": {},
   "outputs": [
    {
     "name": "stdout",
     "output_type": "stream",
     "text": [
      "Output of the program:\n",
      "[[0, 0, 0, 0, 0], [0, 1, 2, 3, 4], [0, 2, 4, 6, 8]]\n"
     ]
    }
   ],
   "source": [
    "def generate_2d_array(X, Y):\n",
    "    result = [[i * j for j in range(Y)] for i in range(X)]\n",
    "    return result\n",
    "\n",
    "# Input X and Y from the user\n",
    "X, Y = map(int, input(\"Enter two digits (X and Y) separated by a comma: \").split(\",\"))\n",
    "\n",
    "output = generate_2d_array(X, Y)\n",
    "print(\"Output of the program:\")\n",
    "print(output)\n",
    "#input 3,5"
   ]
  },
  {
   "cell_type": "markdown",
   "metadata": {},
   "source": [
    "Question 3:\n",
    "Write a program that accepts a comma separated sequence of words as input and prints the\n",
    "words in a comma-separated sequence after sorting them alphabetically.\n",
    "Suppose the following input is supplied to the program:\n",
    "without,hello,bag,world\n",
    "Then, the output should be:\n",
    "bag,hello,without,world"
   ]
  },
  {
   "cell_type": "code",
   "execution_count": 7,
   "metadata": {},
   "outputs": [
    {
     "name": "stdout",
     "output_type": "stream",
     "text": [
      "Output of the program:\n",
      "bag,hello,without,world\n"
     ]
    }
   ],
   "source": [
    "def sort_words(input_str):\n",
    "    words = input_str.split(\",\")\n",
    "    sorted_words = sorted(words)\n",
    "    return \",\".join(sorted_words)\n",
    "\n",
    "# Input comma-separated sequence of words from the user\n",
    "input_sequence = input(\"Enter a comma-separated sequence of words: \")\n",
    "\n",
    "output = sort_words(input_sequence)\n",
    "print(\"Output of the program:\")\n",
    "print(output)\n",
    "#without,hello,bag,world - input"
   ]
  },
  {
   "cell_type": "markdown",
   "metadata": {},
   "source": [
    "Question 4:\n",
    "Write a program that accepts a sequence of whitespace separated words as input and prints\n",
    "the words after removing all duplicate words and sorting them alphanumerically.\n",
    "Suppose the following input is supplied to the program:\n",
    "hello world and practice makes perfect and hello world again\n",
    "Then, the output should be:\n",
    "again and hello makes perfect practice world"
   ]
  },
  {
   "cell_type": "code",
   "execution_count": 8,
   "metadata": {},
   "outputs": [
    {
     "name": "stdout",
     "output_type": "stream",
     "text": [
      "Output of the program:\n",
      "again and hello makes perfect practice world\n"
     ]
    }
   ],
   "source": [
    "def remove_duplicates_and_sort(input_str):\n",
    "    words = input_str.split()\n",
    "    unique_words = sorted(set(words))\n",
    "    return \" \".join(unique_words)\n",
    "\n",
    "# Input whitespace-separated sequence of words from the user\n",
    "input_sequence = input(\"Enter a sequence of whitespace-separated words: \")\n",
    "\n",
    "output = remove_duplicates_and_sort(input_sequence)\n",
    "print(\"Output of the program:\")\n",
    "print(output)\n",
    "\n",
    "#input - hello world and practice makes perfect and hello world again\n"
   ]
  },
  {
   "cell_type": "code",
   "execution_count": null,
   "metadata": {},
   "outputs": [],
   "source": [
    "Question 5:\n",
    "Write a program that accepts a sentence and calculate the number of letters and digits.\n",
    "Suppose the following input is supplied to the program:\n",
    "hello world! 123\n",
    "Then, the output should be:\n",
    "LETTERS 10\n",
    "\n",
    "DIGITS 3"
   ]
  },
  {
   "cell_type": "code",
   "execution_count": 9,
   "metadata": {},
   "outputs": [
    {
     "name": "stdout",
     "output_type": "stream",
     "text": [
      "LETTERS 10\n",
      "DIGITS 3\n"
     ]
    }
   ],
   "source": [
    "def count_letters_and_digits(sentence):\n",
    "    num_letters = sum(1 for char in sentence if char.isalpha())\n",
    "    num_digits = sum(1 for char in sentence if char.isdigit())\n",
    "    return num_letters, num_digits\n",
    "\n",
    "# Input sentence from the user\n",
    "input_sentence = input(\"Enter a sentence: \")\n",
    "\n",
    "letters, digits = count_letters_and_digits(input_sentence)\n",
    "\n",
    "print(\"LETTERS\", letters)\n",
    "print(\"DIGITS\", digits)\n",
    "#input - hello world! 123\n"
   ]
  },
  {
   "cell_type": "markdown",
   "metadata": {},
   "source": [
    "Question 6:\n",
    "A website requires the users to input username and password to register. Write a program to\n",
    "check the validity of password input by users.\n",
    "Following are the criteria for checking the password:\n",
    "1. At least 1 letter between [a-z]\n",
    "2. At least 1 number between [0-9]\n",
    "1. At least 1 letter between [A-Z]\n",
    "3. At least 1 character from [$#@]\n",
    "4. Minimum length of transaction password: 6\n",
    "5. Maximum length of transaction password: 12\n",
    "Your program should accept a sequence of comma separated passwords and will check them\n",
    "according to the above criteria. Passwords that match the criteria are to be printed, each\n",
    "separated by a comma.\n",
    "Example\n",
    "If the following passwords are given as input to the program:\n",
    "ABd1234@1,a F1#,2w3E*,2We3345\n",
    "Then, the output of the program should be:\n",
    "ABd1234@1"
   ]
  },
  {
   "cell_type": "code",
   "execution_count": 10,
   "metadata": {},
   "outputs": [
    {
     "name": "stdout",
     "output_type": "stream",
     "text": [
      "Valid passwords:\n",
      "ABd1234@1\n"
     ]
    }
   ],
   "source": [
    "import re\n",
    "\n",
    "def is_valid_password(password):\n",
    "    if not (6 <= len(password) <= 12):\n",
    "        return False\n",
    "\n",
    "    if not re.search(r\"[a-z]\", password):\n",
    "        return False\n",
    "\n",
    "    if not re.search(r\"[0-9]\", password):\n",
    "        return False\n",
    "\n",
    "    if not re.search(r\"[A-Z]\", password):\n",
    "        return False\n",
    "\n",
    "    if not re.search(r\"[$#@]\", password):\n",
    "        return False\n",
    "\n",
    "    return True\n",
    "\n",
    "# Input comma-separated passwords from the user\n",
    "input_passwords = input(\"Enter a sequence of comma-separated passwords: \")\n",
    "passwords = input_passwords.split(\",\")\n",
    "\n",
    "valid_passwords = [password for password in passwords if is_valid_password(password)]\n",
    "\n",
    "print(\"Valid passwords:\")\n",
    "print(\",\".join(valid_passwords))\n"
   ]
  },
  {
   "cell_type": "code",
   "execution_count": 14,
   "metadata": {},
   "outputs": [
    {
     "name": "stdout",
     "output_type": "stream",
     "text": [
      "Valid passwords:\n",
      "ABd1234@1\n"
     ]
    }
   ],
   "source": [
    "import re\n",
    "\n",
    "def is_valid_password(password):\n",
    "    if not (6 <= len(password) <= 12):\n",
    "        return False\n",
    "\n",
    "    if not re.search(r\"[a-z]\", password):\n",
    "        return False\n",
    "\n",
    "    if not re.search(r\"[0-9]\", password):\n",
    "        return False\n",
    "\n",
    "    if not re.search(r\"[A-Z]\", password):\n",
    "        return False\n",
    "\n",
    "    if not re.search(r\"[$#@]\", password):\n",
    "        return False\n",
    "\n",
    "    return True\n",
    "\n",
    "# Input comma-separated passwords from the user\n",
    "input_passwords = input(\"Enter a sequence of comma-separated passwords: \")\n",
    "passwords = input_passwords.split(\",\")\n",
    "\n",
    "valid_passwords = [password for password in passwords if is_valid_password(password)]\n",
    "\n",
    "print(\"Valid passwords:\")\n",
    "print(\",\".join(valid_passwords))\n"
   ]
  }
 ],
 "metadata": {
  "kernelspec": {
   "display_name": "Python 3",
   "language": "python",
   "name": "python3"
  },
  "language_info": {
   "codemirror_mode": {
    "name": "ipython",
    "version": 3
   },
   "file_extension": ".py",
   "mimetype": "text/x-python",
   "name": "python",
   "nbconvert_exporter": "python",
   "pygments_lexer": "ipython3",
   "version": "3.10.5"
  },
  "orig_nbformat": 4
 },
 "nbformat": 4,
 "nbformat_minor": 2
}
